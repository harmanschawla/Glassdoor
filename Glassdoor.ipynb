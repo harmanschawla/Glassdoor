{
 "cells": [
  {
   "cell_type": "code",
   "execution_count": 63,
   "metadata": {
    "collapsed": true
   },
   "outputs": [],
   "source": [
    "import numpy as np\n",
    "import pandas as pd\n",
    "import seaborn as sns\n",
    "import numpy as np\n",
    "import matplotlib.pyplot as plt\n",
    "%matplotlib inline"
   ]
  },
  {
   "cell_type": "markdown",
   "metadata": {},
   "source": [
    "# Logistic Regression Function"
   ]
  },
  {
   "cell_type": "code",
   "execution_count": 64,
   "metadata": {},
   "outputs": [],
   "source": [
    "def logreg (X_train, X_test, y_test, y_train):\n",
    "    from sklearn.linear_model import LogisticRegression\n",
    "    from sklearn.metrics import roc_curve, auc\n",
    "\n",
    "    logreg = LogisticRegression()\n",
    "    logreg.fit(X_train, y_train)\n",
    "    y_pred = logreg.predict(X_test)\n",
    "    y_pred_proba = logreg.predict_proba(X_test)[:, 1]\n",
    "    [fpr, tpr, thr] = roc_curve(y_test, y_pred_proba)\n",
    "    print(\" auc is %2.3f\" % auc(fpr, tpr))\n",
    "\n",
    "    idx = np.min(np.where(tpr > 0.95)) # index of the first threshold for which the sensibility > 0.95\n",
    "\n",
    "    plt.figure()\n",
    "    plt.plot(fpr, tpr, color='coral', label='ROC curve (area = %0.3f)' % auc(fpr, tpr))\n",
    "    plt.plot([0, 1], [0, 1], 'k--')\n",
    "    plt.plot([0,fpr[idx]], [tpr[idx],tpr[idx]], 'k--', color='blue')\n",
    "    plt.plot([fpr[idx],fpr[idx]], [0,tpr[idx]], 'k--', color='blue')\n",
    "    plt.xlim([0.0, 1.0])\n",
    "    plt.ylim([0.0, 1.05])\n",
    "    plt.xlabel('False Positive Rate (1 - specificity)', fontsize=14)\n",
    "    plt.ylabel('True Positive Rate (recall)', fontsize=14)\n",
    "    plt.title('Receiver operating characteristic (ROC) curve')\n",
    "    plt.legend(loc=\"lower right\")\n",
    "    plt.show()\n"
   ]
  },
  {
   "cell_type": "markdown",
   "metadata": {},
   "source": [
    "# Preprocessing Data"
   ]
  },
  {
   "cell_type": "code",
   "execution_count": 65,
   "metadata": {
    "collapsed": true
   },
   "outputs": [],
   "source": [
    "df = pd.read_csv('apply_rate_2019.csv')"
   ]
  },
  {
   "cell_type": "code",
   "execution_count": 66,
   "metadata": {},
   "outputs": [
    {
     "name": "stdout",
     "output_type": "stream",
     "text": [
      "<class 'pandas.core.frame.DataFrame'>\n",
      "RangeIndex: 1200890 entries, 0 to 1200889\n",
      "Data columns (total 10 columns):\n",
      "title_proximity_tfidf          948319 non-null float64\n",
      "description_proximity_tfidf    948319 non-null float64\n",
      "main_query_tfidf               1200890 non-null float64\n",
      "query_jl_score                 1200890 non-null float64\n",
      "query_title_score              1200890 non-null float64\n",
      "city_match                     944335 non-null float64\n",
      "job_age_days                   1200890 non-null float64\n",
      "apply                          1200890 non-null int64\n",
      "search_date_pacific            1200890 non-null object\n",
      "class_id                       1200890 non-null int64\n",
      "dtypes: float64(7), int64(2), object(1)\n",
      "memory usage: 91.6+ MB\n"
     ]
    }
   ],
   "source": [
    "df.info()"
   ]
  },
  {
   "cell_type": "code",
   "execution_count": 67,
   "metadata": {},
   "outputs": [
    {
     "data": {
      "text/html": [
       "<div>\n",
       "<style scoped>\n",
       "    .dataframe tbody tr th:only-of-type {\n",
       "        vertical-align: middle;\n",
       "    }\n",
       "\n",
       "    .dataframe tbody tr th {\n",
       "        vertical-align: top;\n",
       "    }\n",
       "\n",
       "    .dataframe thead th {\n",
       "        text-align: right;\n",
       "    }\n",
       "</style>\n",
       "<table border=\"1\" class=\"dataframe\">\n",
       "  <thead>\n",
       "    <tr style=\"text-align: right;\">\n",
       "      <th></th>\n",
       "      <th>0</th>\n",
       "      <th>1</th>\n",
       "      <th>2</th>\n",
       "      <th>3</th>\n",
       "      <th>4</th>\n",
       "    </tr>\n",
       "  </thead>\n",
       "  <tbody>\n",
       "    <tr>\n",
       "      <th>title_proximity_tfidf</th>\n",
       "      <td>0</td>\n",
       "      <td>11.874</td>\n",
       "      <td>11.874</td>\n",
       "      <td>0</td>\n",
       "      <td>NaN</td>\n",
       "    </tr>\n",
       "    <tr>\n",
       "      <th>description_proximity_tfidf</th>\n",
       "      <td>0</td>\n",
       "      <td>0.043637</td>\n",
       "      <td>0.043637</td>\n",
       "      <td>0</td>\n",
       "      <td>NaN</td>\n",
       "    </tr>\n",
       "    <tr>\n",
       "      <th>main_query_tfidf</th>\n",
       "      <td>0</td>\n",
       "      <td>2.52708</td>\n",
       "      <td>2.52708</td>\n",
       "      <td>3.69581</td>\n",
       "      <td>7.8689</td>\n",
       "    </tr>\n",
       "    <tr>\n",
       "      <th>query_jl_score</th>\n",
       "      <td>0.00482431</td>\n",
       "      <td>0.0119353</td>\n",
       "      <td>0.0119353</td>\n",
       "      <td>0.0130464</td>\n",
       "      <td>0.00806452</td>\n",
       "    </tr>\n",
       "    <tr>\n",
       "      <th>query_title_score</th>\n",
       "      <td>0.00662807</td>\n",
       "      <td>0.011208</td>\n",
       "      <td>0.011208</td>\n",
       "      <td>0.0333403</td>\n",
       "      <td>0.00877193</td>\n",
       "    </tr>\n",
       "    <tr>\n",
       "      <th>city_match</th>\n",
       "      <td>0</td>\n",
       "      <td>0</td>\n",
       "      <td>0</td>\n",
       "      <td>0</td>\n",
       "      <td>0</td>\n",
       "    </tr>\n",
       "    <tr>\n",
       "      <th>job_age_days</th>\n",
       "      <td>5</td>\n",
       "      <td>5</td>\n",
       "      <td>5</td>\n",
       "      <td>5</td>\n",
       "      <td>7</td>\n",
       "    </tr>\n",
       "    <tr>\n",
       "      <th>apply</th>\n",
       "      <td>0</td>\n",
       "      <td>0</td>\n",
       "      <td>1</td>\n",
       "      <td>0</td>\n",
       "      <td>0</td>\n",
       "    </tr>\n",
       "    <tr>\n",
       "      <th>search_date_pacific</th>\n",
       "      <td>2018-01-21</td>\n",
       "      <td>2018-01-21</td>\n",
       "      <td>2018-01-21</td>\n",
       "      <td>2018-01-23</td>\n",
       "      <td>2018-01-24</td>\n",
       "    </tr>\n",
       "    <tr>\n",
       "      <th>class_id</th>\n",
       "      <td>-7613806991329176388</td>\n",
       "      <td>-1361819269400927213</td>\n",
       "      <td>-1361819269400927213</td>\n",
       "      <td>-3623880078591607667</td>\n",
       "      <td>-7054510112423797411</td>\n",
       "    </tr>\n",
       "  </tbody>\n",
       "</table>\n",
       "</div>"
      ],
      "text/plain": [
       "                                                0                     1  \\\n",
       "title_proximity_tfidf                           0                11.874   \n",
       "description_proximity_tfidf                     0              0.043637   \n",
       "main_query_tfidf                                0               2.52708   \n",
       "query_jl_score                         0.00482431             0.0119353   \n",
       "query_title_score                      0.00662807              0.011208   \n",
       "city_match                                      0                     0   \n",
       "job_age_days                                    5                     5   \n",
       "apply                                           0                     0   \n",
       "search_date_pacific                    2018-01-21            2018-01-21   \n",
       "class_id                     -7613806991329176388  -1361819269400927213   \n",
       "\n",
       "                                                2                     3  \\\n",
       "title_proximity_tfidf                      11.874                     0   \n",
       "description_proximity_tfidf              0.043637                     0   \n",
       "main_query_tfidf                          2.52708               3.69581   \n",
       "query_jl_score                          0.0119353             0.0130464   \n",
       "query_title_score                        0.011208             0.0333403   \n",
       "city_match                                      0                     0   \n",
       "job_age_days                                    5                     5   \n",
       "apply                                           1                     0   \n",
       "search_date_pacific                    2018-01-21            2018-01-23   \n",
       "class_id                     -1361819269400927213  -3623880078591607667   \n",
       "\n",
       "                                                4  \n",
       "title_proximity_tfidf                         NaN  \n",
       "description_proximity_tfidf                   NaN  \n",
       "main_query_tfidf                           7.8689  \n",
       "query_jl_score                         0.00806452  \n",
       "query_title_score                      0.00877193  \n",
       "city_match                                      0  \n",
       "job_age_days                                    7  \n",
       "apply                                           0  \n",
       "search_date_pacific                    2018-01-24  \n",
       "class_id                     -7054510112423797411  "
      ]
     },
     "execution_count": 67,
     "metadata": {},
     "output_type": "execute_result"
    }
   ],
   "source": [
    "df.head().transpose()"
   ]
  },
  {
   "cell_type": "code",
   "execution_count": 68,
   "metadata": {},
   "outputs": [],
   "source": [
    "#Missing values expressed as %Missing for respective features \n",
    "missing_df = df.isnull().sum(axis=0).reset_index()\n",
    "missing_df.columns = ['column_name', 'missing_count']\n",
    "missing_df = missing_df.ix[missing_df['missing_count']>0]\n",
    "missing_df['missing_count']=(missing_df['missing_count']/1084364)*100\n",
    "missing_df=missing_df.sort_values(by=['missing_count'], ascending=False)\n",
    "missing_df=missing_df.set_index('column_name')\n",
    "import warnings\n",
    "warnings.filterwarnings(\"ignore\")"
   ]
  },
  {
   "cell_type": "code",
   "execution_count": 69,
   "metadata": {},
   "outputs": [
    {
     "data": {
      "text/html": [
       "<div>\n",
       "<style scoped>\n",
       "    .dataframe tbody tr th:only-of-type {\n",
       "        vertical-align: middle;\n",
       "    }\n",
       "\n",
       "    .dataframe tbody tr th {\n",
       "        vertical-align: top;\n",
       "    }\n",
       "\n",
       "    .dataframe thead th {\n",
       "        text-align: right;\n",
       "    }\n",
       "</style>\n",
       "<table border=\"1\" class=\"dataframe\">\n",
       "  <thead>\n",
       "    <tr style=\"text-align: right;\">\n",
       "      <th></th>\n",
       "      <th>missing_count</th>\n",
       "    </tr>\n",
       "    <tr>\n",
       "      <th>column_name</th>\n",
       "      <th></th>\n",
       "    </tr>\n",
       "  </thead>\n",
       "  <tbody>\n",
       "    <tr>\n",
       "      <th>city_match</th>\n",
       "      <td>23.659491</td>\n",
       "    </tr>\n",
       "    <tr>\n",
       "      <th>title_proximity_tfidf</th>\n",
       "      <td>23.292086</td>\n",
       "    </tr>\n",
       "    <tr>\n",
       "      <th>description_proximity_tfidf</th>\n",
       "      <td>23.292086</td>\n",
       "    </tr>\n",
       "  </tbody>\n",
       "</table>\n",
       "</div>"
      ],
      "text/plain": [
       "                             missing_count\n",
       "column_name                               \n",
       "city_match                       23.659491\n",
       "title_proximity_tfidf            23.292086\n",
       "description_proximity_tfidf      23.292086"
      ]
     },
     "execution_count": 69,
     "metadata": {},
     "output_type": "execute_result"
    }
   ],
   "source": [
    "missing_df.head()"
   ]
  },
  {
   "cell_type": "code",
   "execution_count": 70,
   "metadata": {},
   "outputs": [
    {
     "data": {
      "text/plain": [
       "<matplotlib.axes._subplots.AxesSubplot at 0x1fb00a5a5c0>"
      ]
     },
     "execution_count": 70,
     "metadata": {},
     "output_type": "execute_result"
    },
    {
     "data": {
      "image/png": "[encoded data removed]",
      "text/plain": [
       "<matplotlib.figure.Figure at 0x1fb00a5a7f0>"
      ]
     },
     "metadata": {},
     "output_type": "display_data"
    }
   ],
   "source": [
    "missing_df.plot.bar(fontsize=10, figsize=(7,5), title = \"%of Missing values per variable\")"
   ]
  },
  {
   "cell_type": "code",
   "execution_count": 71,
   "metadata": {
    "collapsed": true
   },
   "outputs": [],
   "source": [
    "df=df.dropna()"
   ]
  },
  {
   "cell_type": "code",
   "execution_count": 72,
   "metadata": {},
   "outputs": [
    {
     "data": {
      "text/plain": [
       "(717574, 10)"
      ]
     },
     "execution_count": 72,
     "metadata": {},
     "output_type": "execute_result"
    }
   ],
   "source": [
    "df.shape"
   ]
  },
  {
   "cell_type": "code",
   "execution_count": 93,
   "metadata": {},
   "outputs": [
    {
     "data": {
      "text/html": [
       "<div>\n",
       "<style scoped>\n",
       "    .dataframe tbody tr th:only-of-type {\n",
       "        vertical-align: middle;\n",
       "    }\n",
       "\n",
       "    .dataframe tbody tr th {\n",
       "        vertical-align: top;\n",
       "    }\n",
       "\n",
       "    .dataframe thead th {\n",
       "        text-align: right;\n",
       "    }\n",
       "</style>\n",
       "<table border=\"1\" class=\"dataframe\">\n",
       "  <thead>\n",
       "    <tr style=\"text-align: right;\">\n",
       "      <th></th>\n",
       "      <th>title_proximity_tfidf</th>\n",
       "      <th>description_proximity_tfidf</th>\n",
       "      <th>main_query_tfidf</th>\n",
       "      <th>query_jl_score</th>\n",
       "      <th>query_title_score</th>\n",
       "      <th>city_match</th>\n",
       "      <th>job_age_days</th>\n",
       "      <th>search_date_pacific</th>\n",
       "      <th>class_id</th>\n",
       "    </tr>\n",
       "    <tr>\n",
       "      <th>apply</th>\n",
       "      <th></th>\n",
       "      <th></th>\n",
       "      <th></th>\n",
       "      <th></th>\n",
       "      <th></th>\n",
       "      <th></th>\n",
       "      <th></th>\n",
       "      <th></th>\n",
       "      <th></th>\n",
       "    </tr>\n",
       "  </thead>\n",
       "  <tbody>\n",
       "    <tr>\n",
       "      <th>0</th>\n",
       "      <td>650514</td>\n",
       "      <td>650514</td>\n",
       "      <td>650514</td>\n",
       "      <td>650514</td>\n",
       "      <td>650514</td>\n",
       "      <td>650514</td>\n",
       "      <td>650514</td>\n",
       "      <td>650514</td>\n",
       "      <td>650514</td>\n",
       "    </tr>\n",
       "    <tr>\n",
       "      <th>1</th>\n",
       "      <td>67060</td>\n",
       "      <td>67060</td>\n",
       "      <td>67060</td>\n",
       "      <td>67060</td>\n",
       "      <td>67060</td>\n",
       "      <td>67060</td>\n",
       "      <td>67060</td>\n",
       "      <td>67060</td>\n",
       "      <td>67060</td>\n",
       "    </tr>\n",
       "  </tbody>\n",
       "</table>\n",
       "</div>"
      ],
      "text/plain": [
       "       title_proximity_tfidf  description_proximity_tfidf  main_query_tfidf  \\\n",
       "apply                                                                         \n",
       "0                     650514                       650514            650514   \n",
       "1                      67060                        67060             67060   \n",
       "\n",
       "       query_jl_score  query_title_score  city_match  job_age_days  \\\n",
       "apply                                                                \n",
       "0              650514             650514      650514        650514   \n",
       "1               67060              67060       67060         67060   \n",
       "\n",
       "       search_date_pacific  class_id  \n",
       "apply                                 \n",
       "0                   650514    650514  \n",
       "1                    67060     67060  "
      ]
     },
     "execution_count": 93,
     "metadata": {},
     "output_type": "execute_result"
    }
   ],
   "source": [
    "df.groupby(['apply']).count()"
   ]
  },
  {
   "cell_type": "code",
   "execution_count": 73,
   "metadata": {
    "collapsed": true
   },
   "outputs": [],
   "source": [
    "df['search_date_pacific'] = pd.to_datetime(df.search_date_pacific)\n",
    "#search_date_pacific column has been converted from  object to a datetime type"
   ]
  },
  {
   "cell_type": "code",
   "execution_count": 74,
   "metadata": {
    "collapsed": true
   },
   "outputs": [],
   "source": [
    "df=df.sort_values(by='search_date_pacific', ascending=True)\n",
    "df_clone=df"
   ]
  },
  {
   "cell_type": "code",
   "execution_count": 75,
   "metadata": {},
   "outputs": [
    {
     "data": {
      "text/html": [
       "<div>\n",
       "<style scoped>\n",
       "    .dataframe tbody tr th:only-of-type {\n",
       "        vertical-align: middle;\n",
       "    }\n",
       "\n",
       "    .dataframe tbody tr th {\n",
       "        vertical-align: top;\n",
       "    }\n",
       "\n",
       "    .dataframe thead th {\n",
       "        text-align: right;\n",
       "    }\n",
       "</style>\n",
       "<table border=\"1\" class=\"dataframe\">\n",
       "  <thead>\n",
       "    <tr style=\"text-align: right;\">\n",
       "      <th></th>\n",
       "      <th>title_proximity_tfidf</th>\n",
       "      <th>description_proximity_tfidf</th>\n",
       "      <th>main_query_tfidf</th>\n",
       "      <th>query_jl_score</th>\n",
       "      <th>query_title_score</th>\n",
       "      <th>city_match</th>\n",
       "      <th>job_age_days</th>\n",
       "      <th>apply</th>\n",
       "    </tr>\n",
       "  </thead>\n",
       "  <tbody>\n",
       "    <tr>\n",
       "      <th>885093</th>\n",
       "      <td>0.000000</td>\n",
       "      <td>0.000000</td>\n",
       "      <td>0.000000</td>\n",
       "      <td>0.025135</td>\n",
       "      <td>0.046694</td>\n",
       "      <td>1.0</td>\n",
       "      <td>0.0</td>\n",
       "      <td>0</td>\n",
       "    </tr>\n",
       "    <tr>\n",
       "      <th>642630</th>\n",
       "      <td>13.684891</td>\n",
       "      <td>0.050841</td>\n",
       "      <td>2.937206</td>\n",
       "      <td>0.013333</td>\n",
       "      <td>0.019506</td>\n",
       "      <td>1.0</td>\n",
       "      <td>7.0</td>\n",
       "      <td>0</td>\n",
       "    </tr>\n",
       "    <tr>\n",
       "      <th>298314</th>\n",
       "      <td>0.000000</td>\n",
       "      <td>0.000000</td>\n",
       "      <td>1.509593</td>\n",
       "      <td>0.013767</td>\n",
       "      <td>0.025706</td>\n",
       "      <td>1.0</td>\n",
       "      <td>16.0</td>\n",
       "      <td>0</td>\n",
       "    </tr>\n",
       "    <tr>\n",
       "      <th>298313</th>\n",
       "      <td>0.000000</td>\n",
       "      <td>0.040771</td>\n",
       "      <td>2.253558</td>\n",
       "      <td>0.020764</td>\n",
       "      <td>0.052832</td>\n",
       "      <td>0.0</td>\n",
       "      <td>3.0</td>\n",
       "      <td>0</td>\n",
       "    </tr>\n",
       "    <tr>\n",
       "      <th>493664</th>\n",
       "      <td>0.000000</td>\n",
       "      <td>0.242109</td>\n",
       "      <td>0.000000</td>\n",
       "      <td>0.021571</td>\n",
       "      <td>0.012048</td>\n",
       "      <td>1.0</td>\n",
       "      <td>6.0</td>\n",
       "      <td>0</td>\n",
       "    </tr>\n",
       "  </tbody>\n",
       "</table>\n",
       "</div>"
      ],
      "text/plain": [
       "        title_proximity_tfidf  description_proximity_tfidf  main_query_tfidf  \\\n",
       "885093               0.000000                     0.000000          0.000000   \n",
       "642630              13.684891                     0.050841          2.937206   \n",
       "298314               0.000000                     0.000000          1.509593   \n",
       "298313               0.000000                     0.040771          2.253558   \n",
       "493664               0.000000                     0.242109          0.000000   \n",
       "\n",
       "        query_jl_score  query_title_score  city_match  job_age_days  apply  \n",
       "885093        0.025135           0.046694         1.0           0.0      0  \n",
       "642630        0.013333           0.019506         1.0           7.0      0  \n",
       "298314        0.013767           0.025706         1.0          16.0      0  \n",
       "298313        0.020764           0.052832         0.0           3.0      0  \n",
       "493664        0.021571           0.012048         1.0           6.0      0  "
      ]
     },
     "execution_count": 75,
     "metadata": {},
     "output_type": "execute_result"
    }
   ],
   "source": [
    "df_train = df.loc[(df['search_date_pacific'] >= '2018-01-21') & (df['search_date_pacific'] <= '2018-01-26')]\n",
    "df_train.drop(['search_date_pacific', 'class_id'],axis=1,inplace=True)\n",
    "df_train.tail()"
   ]
  },
  {
   "cell_type": "code",
   "execution_count": 76,
   "metadata": {},
   "outputs": [
    {
     "data": {
      "text/plain": [
       "(650678, 8)"
      ]
     },
     "execution_count": 76,
     "metadata": {},
     "output_type": "execute_result"
    }
   ],
   "source": [
    "df_train.shape"
   ]
  },
  {
   "cell_type": "code",
   "execution_count": 94,
   "metadata": {},
   "outputs": [
    {
     "data": {
      "text/html": [
       "<div>\n",
       "<style scoped>\n",
       "    .dataframe tbody tr th:only-of-type {\n",
       "        vertical-align: middle;\n",
       "    }\n",
       "\n",
       "    .dataframe tbody tr th {\n",
       "        vertical-align: top;\n",
       "    }\n",
       "\n",
       "    .dataframe thead th {\n",
       "        text-align: right;\n",
       "    }\n",
       "</style>\n",
       "<table border=\"1\" class=\"dataframe\">\n",
       "  <thead>\n",
       "    <tr style=\"text-align: right;\">\n",
       "      <th></th>\n",
       "      <th>title_proximity_tfidf</th>\n",
       "      <th>description_proximity_tfidf</th>\n",
       "      <th>main_query_tfidf</th>\n",
       "      <th>query_jl_score</th>\n",
       "      <th>query_title_score</th>\n",
       "      <th>city_match</th>\n",
       "      <th>job_age_days</th>\n",
       "      <th>class_id</th>\n",
       "    </tr>\n",
       "    <tr>\n",
       "      <th>apply</th>\n",
       "      <th></th>\n",
       "      <th></th>\n",
       "      <th></th>\n",
       "      <th></th>\n",
       "      <th></th>\n",
       "      <th></th>\n",
       "      <th></th>\n",
       "      <th></th>\n",
       "    </tr>\n",
       "  </thead>\n",
       "  <tbody>\n",
       "    <tr>\n",
       "      <th>0</th>\n",
       "      <td>589622</td>\n",
       "      <td>589622</td>\n",
       "      <td>589622</td>\n",
       "      <td>589622</td>\n",
       "      <td>589622</td>\n",
       "      <td>589622</td>\n",
       "      <td>589622</td>\n",
       "      <td>589622</td>\n",
       "    </tr>\n",
       "    <tr>\n",
       "      <th>1</th>\n",
       "      <td>61056</td>\n",
       "      <td>61056</td>\n",
       "      <td>61056</td>\n",
       "      <td>61056</td>\n",
       "      <td>61056</td>\n",
       "      <td>61056</td>\n",
       "      <td>61056</td>\n",
       "      <td>61056</td>\n",
       "    </tr>\n",
       "  </tbody>\n",
       "</table>\n",
       "</div>"
      ],
      "text/plain": [
       "       title_proximity_tfidf  description_proximity_tfidf  main_query_tfidf  \\\n",
       "apply                                                                         \n",
       "0                     589622                       589622            589622   \n",
       "1                      61056                        61056             61056   \n",
       "\n",
       "       query_jl_score  query_title_score  city_match  job_age_days  class_id  \n",
       "apply                                                                         \n",
       "0              589622             589622      589622        589622    589622  \n",
       "1               61056              61056       61056         61056     61056  "
      ]
     },
     "execution_count": 94,
     "metadata": {},
     "output_type": "execute_result"
    }
   ],
   "source": [
    "df_train.groupby(['apply']).count()"
   ]
  },
  {
   "cell_type": "code",
   "execution_count": 77,
   "metadata": {
    "collapsed": true
   },
   "outputs": [],
   "source": [
    "X_train= df_train.iloc[:,0:7]\n",
    "y_train=df_train.iloc[:,7:]"
   ]
  },
  {
   "cell_type": "code",
   "execution_count": 78,
   "metadata": {},
   "outputs": [
    {
     "data": {
      "text/html": [
       "<div>\n",
       "<style scoped>\n",
       "    .dataframe tbody tr th:only-of-type {\n",
       "        vertical-align: middle;\n",
       "    }\n",
       "\n",
       "    .dataframe tbody tr th {\n",
       "        vertical-align: top;\n",
       "    }\n",
       "\n",
       "    .dataframe thead th {\n",
       "        text-align: right;\n",
       "    }\n",
       "</style>\n",
       "<table border=\"1\" class=\"dataframe\">\n",
       "  <thead>\n",
       "    <tr style=\"text-align: right;\">\n",
       "      <th></th>\n",
       "      <th>title_proximity_tfidf</th>\n",
       "      <th>description_proximity_tfidf</th>\n",
       "      <th>main_query_tfidf</th>\n",
       "      <th>query_jl_score</th>\n",
       "      <th>query_title_score</th>\n",
       "      <th>city_match</th>\n",
       "      <th>job_age_days</th>\n",
       "      <th>apply</th>\n",
       "    </tr>\n",
       "  </thead>\n",
       "  <tbody>\n",
       "    <tr>\n",
       "      <th>1173384</th>\n",
       "      <td>0.000000</td>\n",
       "      <td>0.098741</td>\n",
       "      <td>1.390938</td>\n",
       "      <td>0.014517</td>\n",
       "      <td>0.043860</td>\n",
       "      <td>1.0</td>\n",
       "      <td>2.0</td>\n",
       "      <td>0</td>\n",
       "    </tr>\n",
       "    <tr>\n",
       "      <th>586964</th>\n",
       "      <td>0.000000</td>\n",
       "      <td>0.212966</td>\n",
       "      <td>0.000000</td>\n",
       "      <td>0.016151</td>\n",
       "      <td>0.019456</td>\n",
       "      <td>1.0</td>\n",
       "      <td>6.0</td>\n",
       "      <td>0</td>\n",
       "    </tr>\n",
       "    <tr>\n",
       "      <th>245274</th>\n",
       "      <td>11.284646</td>\n",
       "      <td>0.046895</td>\n",
       "      <td>3.409503</td>\n",
       "      <td>0.010133</td>\n",
       "      <td>0.014787</td>\n",
       "      <td>0.0</td>\n",
       "      <td>3.0</td>\n",
       "      <td>0</td>\n",
       "    </tr>\n",
       "    <tr>\n",
       "      <th>561909</th>\n",
       "      <td>18.909569</td>\n",
       "      <td>0.000000</td>\n",
       "      <td>4.070685</td>\n",
       "      <td>0.020618</td>\n",
       "      <td>0.019594</td>\n",
       "      <td>1.0</td>\n",
       "      <td>22.0</td>\n",
       "      <td>0</td>\n",
       "    </tr>\n",
       "    <tr>\n",
       "      <th>246654</th>\n",
       "      <td>0.000000</td>\n",
       "      <td>0.000000</td>\n",
       "      <td>2.457807</td>\n",
       "      <td>0.000001</td>\n",
       "      <td>0.007895</td>\n",
       "      <td>0.0</td>\n",
       "      <td>9.0</td>\n",
       "      <td>0</td>\n",
       "    </tr>\n",
       "  </tbody>\n",
       "</table>\n",
       "</div>"
      ],
      "text/plain": [
       "         title_proximity_tfidf  description_proximity_tfidf  main_query_tfidf  \\\n",
       "1173384               0.000000                     0.098741          1.390938   \n",
       "586964                0.000000                     0.212966          0.000000   \n",
       "245274               11.284646                     0.046895          3.409503   \n",
       "561909               18.909569                     0.000000          4.070685   \n",
       "246654                0.000000                     0.000000          2.457807   \n",
       "\n",
       "         query_jl_score  query_title_score  city_match  job_age_days  apply  \n",
       "1173384        0.014517           0.043860         1.0           2.0      0  \n",
       "586964         0.016151           0.019456         1.0           6.0      0  \n",
       "245274         0.010133           0.014787         0.0           3.0      0  \n",
       "561909         0.020618           0.019594         1.0          22.0      0  \n",
       "246654         0.000001           0.007895         0.0           9.0      0  "
      ]
     },
     "execution_count": 78,
     "metadata": {},
     "output_type": "execute_result"
    }
   ],
   "source": [
    "df_test = df.loc[(df['search_date_pacific'] > '2018-01-26')]\n",
    "df_test.drop(['search_date_pacific', 'class_id'],axis=1,inplace=True)\n",
    "df_test.head()"
   ]
  },
  {
   "cell_type": "code",
   "execution_count": 79,
   "metadata": {},
   "outputs": [
    {
     "data": {
      "text/plain": [
       "(66896, 8)"
      ]
     },
     "execution_count": 79,
     "metadata": {},
     "output_type": "execute_result"
    }
   ],
   "source": [
    "df_test.shape"
   ]
  },
  {
   "cell_type": "code",
   "execution_count": 95,
   "metadata": {},
   "outputs": [
    {
     "data": {
      "text/html": [
       "<div>\n",
       "<style scoped>\n",
       "    .dataframe tbody tr th:only-of-type {\n",
       "        vertical-align: middle;\n",
       "    }\n",
       "\n",
       "    .dataframe tbody tr th {\n",
       "        vertical-align: top;\n",
       "    }\n",
       "\n",
       "    .dataframe thead th {\n",
       "        text-align: right;\n",
       "    }\n",
       "</style>\n",
       "<table border=\"1\" class=\"dataframe\">\n",
       "  <thead>\n",
       "    <tr style=\"text-align: right;\">\n",
       "      <th></th>\n",
       "      <th>title_proximity_tfidf</th>\n",
       "      <th>description_proximity_tfidf</th>\n",
       "      <th>main_query_tfidf</th>\n",
       "      <th>query_jl_score</th>\n",
       "      <th>query_title_score</th>\n",
       "      <th>city_match</th>\n",
       "      <th>job_age_days</th>\n",
       "      <th>class_id</th>\n",
       "    </tr>\n",
       "    <tr>\n",
       "      <th>apply</th>\n",
       "      <th></th>\n",
       "      <th></th>\n",
       "      <th></th>\n",
       "      <th></th>\n",
       "      <th></th>\n",
       "      <th></th>\n",
       "      <th></th>\n",
       "      <th></th>\n",
       "    </tr>\n",
       "  </thead>\n",
       "  <tbody>\n",
       "    <tr>\n",
       "      <th>0</th>\n",
       "      <td>60892</td>\n",
       "      <td>60892</td>\n",
       "      <td>60892</td>\n",
       "      <td>60892</td>\n",
       "      <td>60892</td>\n",
       "      <td>60892</td>\n",
       "      <td>60892</td>\n",
       "      <td>60892</td>\n",
       "    </tr>\n",
       "    <tr>\n",
       "      <th>1</th>\n",
       "      <td>6004</td>\n",
       "      <td>6004</td>\n",
       "      <td>6004</td>\n",
       "      <td>6004</td>\n",
       "      <td>6004</td>\n",
       "      <td>6004</td>\n",
       "      <td>6004</td>\n",
       "      <td>6004</td>\n",
       "    </tr>\n",
       "  </tbody>\n",
       "</table>\n",
       "</div>"
      ],
      "text/plain": [
       "       title_proximity_tfidf  description_proximity_tfidf  main_query_tfidf  \\\n",
       "apply                                                                         \n",
       "0                      60892                        60892             60892   \n",
       "1                       6004                         6004              6004   \n",
       "\n",
       "       query_jl_score  query_title_score  city_match  job_age_days  class_id  \n",
       "apply                                                                         \n",
       "0               60892              60892       60892         60892     60892  \n",
       "1                6004               6004        6004          6004      6004  "
      ]
     },
     "execution_count": 95,
     "metadata": {},
     "output_type": "execute_result"
    }
   ],
   "source": [
    "df_test.groupby(['apply']).count()"
   ]
  },
  {
   "cell_type": "markdown",
   "metadata": {},
   "source": [
    "# AUC without using Class_ID"
   ]
  },
  {
   "cell_type": "code",
   "execution_count": 80,
   "metadata": {},
   "outputs": [
    {
     "name": "stdout",
     "output_type": "stream",
     "text": [
      " auc is 0.567\n"
     ]
    },
    {
     "data": {
      "image/png": "[encoded data removed]",
      "text/plain": [
       "<matplotlib.figure.Figure at 0x1fb00a10f60>"
      ]
     },
     "metadata": {},
     "output_type": "display_data"
    }
   ],
   "source": [
    "X_test= df_test.iloc[:,0:7]\n",
    "y_test=df_test.iloc[:,7:]\n",
    "logreg (X_train, X_test, y_test, y_train)"
   ]
  },
  {
   "cell_type": "markdown",
   "metadata": {},
   "source": [
    "# AUC using Class_ID without normalizing it"
   ]
  },
  {
   "cell_type": "code",
   "execution_count": 81,
   "metadata": {},
   "outputs": [
    {
     "name": "stdout",
     "output_type": "stream",
     "text": [
      " auc is 0.494\n"
     ]
    },
    {
     "data": {
      "image/png": "[encoded data removed]",
      "text/plain": [
       "<matplotlib.figure.Figure at 0x1fb012ebe10>"
      ]
     },
     "metadata": {},
     "output_type": "display_data"
    }
   ],
   "source": [
    "df_train = df_clone.loc[(df['search_date_pacific'] >= '2018-01-21') & (df['search_date_pacific'] <= '2018-01-26')]\n",
    "df_train.drop(['search_date_pacific'],axis=1,inplace=True)\n",
    "df_test = df_clone.loc[(df['search_date_pacific'] > '2018-01-26')]\n",
    "df_test.drop(['search_date_pacific'],axis=1,inplace=True)\n",
    "X_train= df_train.drop(['apply'],axis=1)\n",
    "y_train=df_train['apply']\n",
    "X_test= df_test.drop(['apply'],axis=1)\n",
    "y_test=df_test['apply']\n",
    "logreg (X_train, X_test, y_test, y_train)"
   ]
  },
  {
   "cell_type": "markdown",
   "metadata": {},
   "source": [
    "# AUC after mean normalizing Class ID"
   ]
  },
  {
   "cell_type": "code",
   "execution_count": 82,
   "metadata": {},
   "outputs": [],
   "source": [
    "df_clone['class_id']=(df_clone['class_id']-df_clone['class_id'].mean())/df_clone['class_id'].std()\n",
    "df_train = df_clone.loc[(df['search_date_pacific'] >= '2018-01-21') & (df['search_date_pacific'] <= '2018-01-26')]\n",
    "df_train.drop(['search_date_pacific'],axis=1,inplace=True)\n",
    "df_test = df_clone.loc[(df['search_date_pacific'] > '2018-01-26')]\n",
    "df_test.drop(['search_date_pacific'],axis=1,inplace=True)\n"
   ]
  },
  {
   "cell_type": "code",
   "execution_count": 83,
   "metadata": {},
   "outputs": [],
   "source": [
    "X_train= df_train.drop(['apply'],axis=1)\n",
    "y_train=df_train['apply']\n",
    "X_test= df_test.drop(['apply'],axis=1)\n",
    "y_test=df_test['apply']"
   ]
  },
  {
   "cell_type": "code",
   "execution_count": 84,
   "metadata": {},
   "outputs": [
    {
     "name": "stdout",
     "output_type": "stream",
     "text": [
      " auc is 0.568\n"
     ]
    },
    {
     "data": {
      "image/png": "[encoded data removed]",
      "text/plain": [
       "<matplotlib.figure.Figure at 0x1fb00a7e400>"
      ]
     },
     "metadata": {},
     "output_type": "display_data"
    }
   ],
   "source": [
    "logreg (X_train, X_test, y_test, y_train)"
   ]
  },
  {
   "cell_type": "code",
   "execution_count": null,
   "metadata": {
    "collapsed": true
   },
   "outputs": [],
   "source": []
  },
  {
   "cell_type": "code",
   "execution_count": null,
   "metadata": {
    "collapsed": true
   },
   "outputs": [],
   "source": []
  },
  {
   "cell_type": "code",
   "execution_count": null,
   "metadata": {
    "collapsed": true
   },
   "outputs": [],
   "source": []
  },
  {
   "cell_type": "code",
   "execution_count": null,
   "metadata": {
    "collapsed": true
   },
   "outputs": [],
   "source": []
  }
 ],
 "metadata": {
  "kernelspec": {
   "display_name": "Python 3",
   "language": "python",
   "name": "python3"
  },
  "language_info": {
   "codemirror_mode": {
    "name": "ipython",
    "version": 3
   },
   "file_extension": ".py",
   "mimetype": "text/x-python",
   "name": "python",
   "nbconvert_exporter": "python",
   "pygments_lexer": "ipython3",
   "version": "3.6.3"
  }
 },
 "nbformat": 4,
 "nbformat_minor": 2
}
